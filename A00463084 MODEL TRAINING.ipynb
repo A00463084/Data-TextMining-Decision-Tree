{
 "cells": [
  {
   "cell_type": "markdown",
   "id": "90d3a096",
   "metadata": {},
   "source": [
    "# IMPORTING LIBRARIES"
   ]
  },
  {
   "cell_type": "code",
   "execution_count": 21,
   "id": "7d5405ae",
   "metadata": {},
   "outputs": [],
   "source": [
    "from sklearn.datasets import load_iris\n",
    "from sklearn.model_selection import train_test_split\n",
    "from sklearn.metrics import accuracy_score\n",
    "from sklearn import tree"
   ]
  },
  {
   "cell_type": "code",
   "execution_count": 4,
   "id": "ada0fd37",
   "metadata": {},
   "outputs": [],
   "source": [
    "data = load_iris()"
   ]
  },
  {
   "cell_type": "code",
   "execution_count": 5,
   "id": "b1ccef37",
   "metadata": {},
   "outputs": [],
   "source": [
    "X=data['data']\n",
    "y=data['target']"
   ]
  },
  {
   "cell_type": "markdown",
   "id": "b2ebbabb",
   "metadata": {},
   "source": [
    "# Case 1: Without train test split"
   ]
  },
  {
   "cell_type": "code",
   "execution_count": 8,
   "id": "8e00b972",
   "metadata": {},
   "outputs": [
    {
     "data": {
      "text/plain": [
       "DecisionTreeClassifier()"
      ]
     },
     "execution_count": 8,
     "metadata": {},
     "output_type": "execute_result"
    }
   ],
   "source": [
    "# DECISION TREE CLASSIFIER  TRAINING\n",
    "\n",
    "clf = tree.DecisionTreeClassifier() #Importing Decision Tree Classifier\n",
    "\n",
    "clf.fit(X,y)\n",
    "\n",
    "\n",
    "\n",
    "\n",
    "\n"
   ]
  },
  {
   "cell_type": "code",
   "execution_count": 10,
   "id": "46a0196e",
   "metadata": {},
   "outputs": [],
   "source": [
    "prediction= clf.predict([[5,2,1,0.3]])"
   ]
  },
  {
   "cell_type": "code",
   "execution_count": 12,
   "id": "8b726bdd",
   "metadata": {},
   "outputs": [
    {
     "name": "stdout",
     "output_type": "stream",
     "text": [
      "['setosa']\n"
     ]
    }
   ],
   "source": [
    "print(data['target_names'][prediction])"
   ]
  },
  {
   "cell_type": "markdown",
   "id": "7dff04d4",
   "metadata": {},
   "source": [
    "# Case 2: With train test split"
   ]
  },
  {
   "cell_type": "code",
   "execution_count": 17,
   "id": "7ba79b4c",
   "metadata": {},
   "outputs": [],
   "source": [
    "train_X,test_X,train_y,test_y = train_test_split(X,y,test_size=0.2,random_state=44)"
   ]
  },
  {
   "cell_type": "code",
   "execution_count": 18,
   "id": "32696fa8",
   "metadata": {},
   "outputs": [
    {
     "data": {
      "text/plain": [
       "DecisionTreeClassifier()"
      ]
     },
     "execution_count": 18,
     "metadata": {},
     "output_type": "execute_result"
    }
   ],
   "source": [
    "# DECISION TREE CLASSIFIER  TRAINING\n",
    "\n",
    "clf = tree.DecisionTreeClassifier() #Importing Decision Tree Classifier\n",
    "\n",
    "clf.fit(train_X,train_y)\n",
    "\n",
    "\n",
    "\n",
    "\n",
    "\n"
   ]
  },
  {
   "cell_type": "code",
   "execution_count": 26,
   "id": "fd883676",
   "metadata": {},
   "outputs": [
    {
     "name": "stdout",
     "output_type": "stream",
     "text": [
      "Test Accuracy 86.66666666666667\n"
     ]
    }
   ],
   "source": [
    "prediction= clf.predict(test_X)\n",
    "\n",
    "accuracy= accuracy_score(test_y,prediction)\n",
    "\n",
    "print(\"Test Accuracy\",accuracy*100)\n"
   ]
  },
  {
   "cell_type": "code",
   "execution_count": 29,
   "id": "c8ced769",
   "metadata": {},
   "outputs": [],
   "source": [
    "prediction= clf.predict([[5,2,1,0.3]])"
   ]
  },
  {
   "cell_type": "code",
   "execution_count": 30,
   "id": "a91090ed",
   "metadata": {},
   "outputs": [
    {
     "name": "stdout",
     "output_type": "stream",
     "text": [
      "['setosa']\n"
     ]
    }
   ],
   "source": [
    "print(data['target_names'][prediction])"
   ]
  },
  {
   "cell_type": "markdown",
   "id": "fef6c89b",
   "metadata": {},
   "source": [
    "# Save the Model"
   ]
  },
  {
   "cell_type": "code",
   "execution_count": 28,
   "id": "07e92288",
   "metadata": {},
   "outputs": [],
   "source": [
    "from joblib import dump,load"
   ]
  },
  {
   "cell_type": "code",
   "execution_count": 31,
   "id": "0aefd928",
   "metadata": {},
   "outputs": [
    {
     "data": {
      "text/plain": [
       "['C:\\\\Users\\\\franc\\\\Documents\\\\Francis SMU\\\\MCDA 5580 DATA AND TEXT MINING\\\\Data-TextMining-Decision-Tree\\\\dt.joblib']"
      ]
     },
     "execution_count": 31,
     "metadata": {},
     "output_type": "execute_result"
    }
   ],
   "source": [
    "dump(clf,r'C:\\Users\\franc\\Documents\\Francis SMU\\MCDA 5580 DATA AND TEXT MINING\\Data-TextMining-Decision-Tree\\dt.joblib')"
   ]
  },
  {
   "cell_type": "code",
   "execution_count": 32,
   "id": "50620b38",
   "metadata": {},
   "outputs": [
    {
     "data": {
      "text/plain": [
       "['sepal length (cm)',\n",
       " 'sepal width (cm)',\n",
       " 'petal length (cm)',\n",
       " 'petal width (cm)']"
      ]
     },
     "execution_count": 32,
     "metadata": {},
     "output_type": "execute_result"
    }
   ],
   "source": [
    "data.feature_names"
   ]
  },
  {
   "cell_type": "code",
   "execution_count": null,
   "id": "e1df42dc",
   "metadata": {},
   "outputs": [],
   "source": []
  }
 ],
 "metadata": {
  "kernelspec": {
   "display_name": "Python 3 (ipykernel)",
   "language": "python",
   "name": "python3"
  },
  "language_info": {
   "codemirror_mode": {
    "name": "ipython",
    "version": 3
   },
   "file_extension": ".py",
   "mimetype": "text/x-python",
   "name": "python",
   "nbconvert_exporter": "python",
   "pygments_lexer": "ipython3",
   "version": "3.9.12"
  }
 },
 "nbformat": 4,
 "nbformat_minor": 5
}
